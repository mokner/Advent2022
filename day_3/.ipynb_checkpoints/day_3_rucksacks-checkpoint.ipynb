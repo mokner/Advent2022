{
 "cells": [
  {
   "cell_type": "code",
   "execution_count": 4,
   "metadata": {},
   "outputs": [],
   "source": [
    "def rucksacks():\n",
    "    \n",
    "    priorities = []\n",
    "    raw_data = open('day3data.txt', 'r')\n",
    "    \n",
    "    for line in raw_data:\n",
    "        priorities.append(assign_priority(find_common_item(line.strip())))\n",
    "    \n",
    "    return sum(priorities)\n",
    "\n",
    "\n",
    "def rucksacks_by_group():\n",
    "    \n",
    "    priorities = []\n",
    "    common_item = ''\n",
    "    priority = 0\n",
    "    total_priority=0\n",
    "    \n",
    "    raw_data = open('day3data.txt', 'r').readlines()\n",
    "    \n",
    "    grouped_data = [[raw_data[i].strip(), raw_data[i+1].strip(), raw_data[i+2].strip()] for i, _ in enumerate(raw_data) if i % 3 == 0]\n",
    "    \n",
    "    for group in grouped_data:\n",
    "        common_item = find_common_item_by_group(group[0], group[1], group[2])\n",
    "        priority = assign_priority(common_item)\n",
    "        total_priority += priority\n",
    "    \n",
    "    return total_priority\n",
    "\n",
    "def find_common_item(items):\n",
    "    \n",
    "    common_item = ''\n",
    "    \n",
    "    first_compartment  = items[:len(items)//2]\n",
    "    second_compartment = items[len(items)//2:]\n",
    "    \n",
    "    return common_item.join(set(first_compartment).intersection(second_compartment))\n",
    "\n",
    "\n",
    "def find_common_item_by_group(elf1, elf2, elf3):\n",
    "    \n",
    "    return ''.join(set(elf1).intersection(elf2).intersection(elf3))\n",
    "\n",
    "\n",
    "def assign_priority(item):\n",
    "    score = 0\n",
    "    \n",
    "    for c in item:\n",
    "        if c >= 'a' and c <= 'z':\n",
    "            score+= ord(c) - 96\n",
    "        elif c >= 'A' and c <= 'Z':\n",
    "            score+= ord(c) - 38\n",
    "        else:\n",
    "            score+=0\n",
    "            \n",
    "    return score"
   ]
  },
  {
   "cell_type": "code",
   "execution_count": 5,
   "metadata": {},
   "outputs": [
    {
     "data": {
      "text/plain": [
       "8252"
      ]
     },
     "execution_count": 5,
     "metadata": {},
     "output_type": "execute_result"
    }
   ],
   "source": [
    "rucksacks()"
   ]
  },
  {
   "cell_type": "code",
   "execution_count": 6,
   "metadata": {},
   "outputs": [
    {
     "data": {
      "text/plain": [
       "2828"
      ]
     },
     "execution_count": 6,
     "metadata": {},
     "output_type": "execute_result"
    }
   ],
   "source": [
    "rucksacks_by_group()"
   ]
  },
  {
   "cell_type": "code",
   "execution_count": null,
   "metadata": {},
   "outputs": [],
   "source": []
  }
 ],
 "metadata": {
  "kernelspec": {
   "display_name": "Python 2",
   "language": "python",
   "name": "python2"
  },
  "language_info": {
   "codemirror_mode": {
    "name": "ipython",
    "version": 2
   },
   "file_extension": ".py",
   "mimetype": "text/x-python",
   "name": "python",
   "nbconvert_exporter": "python",
   "pygments_lexer": "ipython2",
   "version": "2.7.15"
  }
 },
 "nbformat": 4,
 "nbformat_minor": 2
}
