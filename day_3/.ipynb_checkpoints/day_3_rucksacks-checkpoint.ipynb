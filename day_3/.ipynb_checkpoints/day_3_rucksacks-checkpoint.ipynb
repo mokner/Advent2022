{
 "cells": [
  {
   "cell_type": "code",
   "execution_count": 112,
   "metadata": {},
   "outputs": [],
   "source": [
    "def rucksacks():\n",
    "    \n",
    "    priorities = []\n",
    "    raw_data = open('day3data.txt', 'r')\n",
    "    \n",
    "    for line in raw_data:\n",
    "        priorities.append(assign_priority(find_common_item(line)))\n",
    "    \n",
    "    return sum(priorities)\n",
    "\n",
    "def rucksacks_contents():\n",
    "    \n",
    "    priorities = []\n",
    "    raw_data = open('day3data.txt', 'r')\n",
    "    \n",
    "    for line in raw_data:\n",
    "        priorities.append(find_common_item(line))\n",
    "    \n",
    "    return priorities\n",
    "\n",
    "\n",
    "def find_common_item(items):\n",
    "    \n",
    "    common_item = ''\n",
    "    \n",
    "    first_compartment  = items[:len(items)//2]\n",
    "    second_compartment = items[len(items)//2:]\n",
    "    \n",
    "    return common_item.join(set(first_compartment).intersection(second_compartment))\n",
    "\n",
    "def assign_priority(item):\n",
    "    score = 0\n",
    "    \n",
    "    for c in item:\n",
    "        if c >= 'a' and c <= 'z':\n",
    "            score+= ord(c) - 96\n",
    "        elif c >= 'A' and c <= 'Z':\n",
    "            score+= ord(c) - 38\n",
    "        else:\n",
    "            score+=0\n",
    "            \n",
    "    return score"
   ]
  },
  {
   "cell_type": "code",
   "execution_count": 83,
   "metadata": {},
   "outputs": [
    {
     "data": {
      "text/plain": [
       "'A'"
      ]
     },
     "execution_count": 83,
     "metadata": {},
     "output_type": "execute_result"
    }
   ],
   "source": [
    "find_common_item('AAcAAa')"
   ]
  },
  {
   "cell_type": "code",
   "execution_count": 111,
   "metadata": {},
   "outputs": [
    {
     "data": {
      "text/plain": [
       "65"
      ]
     },
     "execution_count": 111,
     "metadata": {},
     "output_type": "execute_result"
    }
   ],
   "source": [
    "ord('A')"
   ]
  },
  {
   "cell_type": "code",
   "execution_count": 116,
   "metadata": {},
   "outputs": [
    {
     "data": {
      "text/plain": [
       "12739"
      ]
     },
     "execution_count": 116,
     "metadata": {},
     "output_type": "execute_result"
    }
   ],
   "source": [
    "rucksacks()"
   ]
  },
  {
   "cell_type": "code",
   "execution_count": 87,
   "metadata": {},
   "outputs": [
    {
     "ename": "TypeError",
     "evalue": "ord() expected a character, but string of length 2 found",
     "output_type": "error",
     "traceback": [
      "\u001b[0;31m---------------------------------------------------------------------------\u001b[0m",
      "\u001b[0;31mTypeError\u001b[0m                                 Traceback (most recent call last)",
      "\u001b[0;32m<ipython-input-87-9a7187504d58>\u001b[0m in \u001b[0;36m<module>\u001b[0;34m()\u001b[0m\n\u001b[1;32m      3\u001b[0m \u001b[0;34m\u001b[0m\u001b[0m\n\u001b[1;32m      4\u001b[0m \u001b[0;32mfor\u001b[0m \u001b[0mline\u001b[0m \u001b[0;32min\u001b[0m \u001b[0mraw_data\u001b[0m\u001b[0;34m:\u001b[0m\u001b[0;34m\u001b[0m\u001b[0m\n\u001b[0;32m----> 5\u001b[0;31m      \u001b[0mpriorities\u001b[0m\u001b[0;34m.\u001b[0m\u001b[0mappend\u001b[0m\u001b[0;34m(\u001b[0m\u001b[0massign_priority\u001b[0m\u001b[0;34m(\u001b[0m\u001b[0mfind_common_item\u001b[0m\u001b[0;34m(\u001b[0m\u001b[0mline\u001b[0m\u001b[0;34m)\u001b[0m\u001b[0;34m)\u001b[0m\u001b[0;34m)\u001b[0m\u001b[0;34m\u001b[0m\u001b[0m\n\u001b[0m\u001b[1;32m      6\u001b[0m \u001b[0;34m\u001b[0m\u001b[0m\n\u001b[1;32m      7\u001b[0m \u001b[0;32mreturn\u001b[0m \u001b[0msum\u001b[0m\u001b[0;34m(\u001b[0m\u001b[0mpriorities\u001b[0m\u001b[0;34m)\u001b[0m\u001b[0;34m\u001b[0m\u001b[0m\n",
      "\u001b[0;32m<ipython-input-84-519d8912168d>\u001b[0m in \u001b[0;36massign_priority\u001b[0;34m(item)\u001b[0m\n\u001b[1;32m     23\u001b[0m         \u001b[0;32mreturn\u001b[0m \u001b[0mord\u001b[0m\u001b[0;34m(\u001b[0m\u001b[0mitem\u001b[0m\u001b[0;34m)\u001b[0m \u001b[0;34m-\u001b[0m \u001b[0;36m70\u001b[0m\u001b[0;34m\u001b[0m\u001b[0m\n\u001b[1;32m     24\u001b[0m     \u001b[0;32melif\u001b[0m \u001b[0mitem\u001b[0m \u001b[0;34m>=\u001b[0m \u001b[0;34m'A'\u001b[0m \u001b[0;32mand\u001b[0m \u001b[0mitem\u001b[0m \u001b[0;34m<=\u001b[0m \u001b[0;34m'Z'\u001b[0m\u001b[0;34m:\u001b[0m\u001b[0;34m\u001b[0m\u001b[0m\n\u001b[0;32m---> 25\u001b[0;31m         \u001b[0;32mreturn\u001b[0m \u001b[0mord\u001b[0m\u001b[0;34m(\u001b[0m\u001b[0mitem\u001b[0m\u001b[0;34m)\u001b[0m \u001b[0;34m-\u001b[0m \u001b[0;36m64\u001b[0m\u001b[0;34m\u001b[0m\u001b[0m\n\u001b[0m\u001b[1;32m     26\u001b[0m \u001b[0;34m\u001b[0m\u001b[0m\n",
      "\u001b[0;31mTypeError\u001b[0m: ord() expected a character, but string of length 2 found"
     ]
    }
   ],
   "source": [
    "priorities = []\n",
    "raw_data = open('day3data.txt', 'r')\n",
    "    \n",
    "for line in raw_data:\n",
    "     priorities.append(assign_priority(find_common_item(line)))\n",
    "    \n",
    "return sum(priorities)"
   ]
  },
  {
   "cell_type": "code",
   "execution_count": 124,
   "metadata": {},
   "outputs": [
    {
     "data": {
      "text/plain": [
       "'l'"
      ]
     },
     "execution_count": 124,
     "metadata": {},
     "output_type": "execute_result"
    }
   ],
   "source": [
    "find_common_item('JlgnNhsqVqNqNpPlvZvDDDGlZZ')"
   ]
  },
  {
   "cell_type": "code",
   "execution_count": 125,
   "metadata": {},
   "outputs": [
    {
     "data": {
      "text/plain": [
       "['D',\n",
       " 'Sj',\n",
       " 'W',\n",
       " 'h',\n",
       " 'JN',\n",
       " 'T',\n",
       " 'M',\n",
       " 'nf',\n",
       " 'QS',\n",
       " 'bD',\n",
       " 'pJ',\n",
       " 'V',\n",
       " 'Bm',\n",
       " 'R',\n",
       " 'v',\n",
       " 'qH',\n",
       " 'Pc',\n",
       " 'tT',\n",
       " 'Cs',\n",
       " 'pD',\n",
       " 'hz',\n",
       " 'PC',\n",
       " 'sG',\n",
       " 'mT',\n",
       " 'Bm',\n",
       " 'd',\n",
       " 'R',\n",
       " 'DF',\n",
       " 'jw',\n",
       " 'pS',\n",
       " 'PT',\n",
       " 'w',\n",
       " 'J',\n",
       " 'hw',\n",
       " 'hT',\n",
       " 'W',\n",
       " 'mL',\n",
       " 'tg',\n",
       " 'p',\n",
       " 'zm',\n",
       " 'J',\n",
       " 'QM',\n",
       " 'cl',\n",
       " 'HZ',\n",
       " 'j',\n",
       " 'L',\n",
       " 'hd',\n",
       " 'F',\n",
       " '',\n",
       " 'rl',\n",
       " 'JD',\n",
       " 'Ql',\n",
       " 'Pl',\n",
       " 'M',\n",
       " 'LN',\n",
       " 'q',\n",
       " 'H',\n",
       " 'cF',\n",
       " 'L',\n",
       " 'r',\n",
       " 'Dn',\n",
       " 'SG',\n",
       " 'LN',\n",
       " 'pl',\n",
       " 'HP',\n",
       " 'b',\n",
       " 'v',\n",
       " 'm',\n",
       " 'q',\n",
       " 'Q',\n",
       " 'Rm',\n",
       " 'bM',\n",
       " 'S',\n",
       " 'rg',\n",
       " '',\n",
       " 'jD',\n",
       " 'R',\n",
       " 'QC',\n",
       " 'sg',\n",
       " 'Sv',\n",
       " 'RM',\n",
       " 'ZB',\n",
       " 'Tf',\n",
       " 'W',\n",
       " 'z',\n",
       " 'q',\n",
       " 'C',\n",
       " 'qC',\n",
       " 'RF',\n",
       " 'd',\n",
       " 'GF',\n",
       " 'T',\n",
       " 'd',\n",
       " 'Rv',\n",
       " 'Jg',\n",
       " '',\n",
       " 'F',\n",
       " 'Qd',\n",
       " 'Zw',\n",
       " 'Zr',\n",
       " 'pm',\n",
       " 'bj',\n",
       " 'jM',\n",
       " 'F',\n",
       " 'qs',\n",
       " 'sn',\n",
       " 'tG',\n",
       " 'pD',\n",
       " 's',\n",
       " 'Hr',\n",
       " '',\n",
       " 'hs',\n",
       " 't',\n",
       " 'c',\n",
       " '',\n",
       " 'T',\n",
       " 'HJ',\n",
       " 'B',\n",
       " 'Sm',\n",
       " 'CG',\n",
       " 'G',\n",
       " 'lW',\n",
       " 'w',\n",
       " 'M',\n",
       " 'c',\n",
       " 'j',\n",
       " 'z',\n",
       " 'b',\n",
       " 'B',\n",
       " 'Sm',\n",
       " 'dv',\n",
       " 'F',\n",
       " 'Qv',\n",
       " 'BJ',\n",
       " 'rn',\n",
       " 'V',\n",
       " 'Gf',\n",
       " 'Hl',\n",
       " 'w',\n",
       " 'RZ',\n",
       " 'v',\n",
       " 'VN',\n",
       " 'p',\n",
       " 'qj',\n",
       " 'MG',\n",
       " 'C',\n",
       " 'Z',\n",
       " 'sj',\n",
       " 'Bv',\n",
       " 'hD',\n",
       " 'Mw',\n",
       " 'jv',\n",
       " 'Cb',\n",
       " '',\n",
       " 'Rt',\n",
       " 'f',\n",
       " 'sf',\n",
       " 'q',\n",
       " 'Ml',\n",
       " 'sB',\n",
       " 'bT',\n",
       " 'pl',\n",
       " 'm',\n",
       " 'N',\n",
       " 'Qt',\n",
       " 'M',\n",
       " 'Sg',\n",
       " 'sm',\n",
       " 'Df',\n",
       " 'CJ',\n",
       " 'M',\n",
       " 'sT',\n",
       " 'HR',\n",
       " 'hl',\n",
       " 'fV',\n",
       " 'cn',\n",
       " 'Rd',\n",
       " 'wN',\n",
       " 'hZ',\n",
       " '',\n",
       " 'H',\n",
       " 'WG',\n",
       " 'h',\n",
       " 'Rt',\n",
       " 'bl',\n",
       " 'pS',\n",
       " 'ZV',\n",
       " 'BN',\n",
       " 'W',\n",
       " 'w',\n",
       " 'n',\n",
       " 'QV',\n",
       " 'Lv',\n",
       " 'QH',\n",
       " 'z',\n",
       " 'Bl',\n",
       " 'mN',\n",
       " 'qd',\n",
       " 'p',\n",
       " 'Mv',\n",
       " 'n',\n",
       " 'sd',\n",
       " 'HN',\n",
       " 'pw',\n",
       " 'qs',\n",
       " 'sf',\n",
       " 'PZ',\n",
       " 'cZ',\n",
       " 'WG',\n",
       " 'Bz',\n",
       " 'T',\n",
       " 'QC',\n",
       " 'l',\n",
       " 'B',\n",
       " 'l',\n",
       " 'pZ',\n",
       " 'Z',\n",
       " 'ht',\n",
       " 'gV',\n",
       " 'pV',\n",
       " 'l',\n",
       " 'hz',\n",
       " 'gv',\n",
       " 'Pv',\n",
       " 'Sl',\n",
       " 'rT',\n",
       " 'Z',\n",
       " 'HS',\n",
       " 'G',\n",
       " 'q',\n",
       " 'V',\n",
       " 'Pz',\n",
       " 'qF',\n",
       " 'Rw',\n",
       " 'W',\n",
       " 'R',\n",
       " 'J',\n",
       " 'ZD',\n",
       " 'd',\n",
       " '',\n",
       " 'Md',\n",
       " 'qm',\n",
       " 'bW',\n",
       " 'ln',\n",
       " 'TN',\n",
       " 'hm',\n",
       " '',\n",
       " 'sf',\n",
       " '',\n",
       " 'SV',\n",
       " 'R',\n",
       " 'HJ',\n",
       " 'Pp',\n",
       " 'ZL',\n",
       " 'z',\n",
       " 'Nf',\n",
       " '',\n",
       " 'Dn',\n",
       " 'zm',\n",
       " 'D',\n",
       " 'r',\n",
       " 'Bd',\n",
       " 'dW',\n",
       " 'Dv',\n",
       " 'Qs',\n",
       " 'Pl',\n",
       " 'HS',\n",
       " 'sL',\n",
       " 'Mm',\n",
       " 'c',\n",
       " 'hb',\n",
       " 'wF',\n",
       " 'M',\n",
       " 'VN',\n",
       " 'hM',\n",
       " 'Q',\n",
       " 'Bt',\n",
       " 'JM',\n",
       " 'rw',\n",
       " 'Sn',\n",
       " 'QB',\n",
       " 'mD',\n",
       " 'P',\n",
       " 'QZ',\n",
       " 'zf',\n",
       " 'pC',\n",
       " 'W',\n",
       " '',\n",
       " 'G',\n",
       " 'Wn',\n",
       " 'C',\n",
       " 'zL',\n",
       " 'T',\n",
       " 'Zd',\n",
       " 'sm',\n",
       " 't',\n",
       " '',\n",
       " 'TF',\n",
       " 'cw',\n",
       " 'l']"
      ]
     },
     "execution_count": 125,
     "metadata": {},
     "output_type": "execute_result"
    }
   ],
   "source": [
    "rucksacks_contents()"
   ]
  },
  {
   "cell_type": "code",
   "execution_count": 108,
   "metadata": {},
   "outputs": [
    {
     "data": {
      "text/plain": [
       "61"
      ]
     },
     "execution_count": 108,
     "metadata": {},
     "output_type": "execute_result"
    }
   ],
   "source": [
    "score = 0\n",
    "\n",
    "for c in 'Ace':\n",
    "        if c >= 'a' and c <= 'z':\n",
    "            score+= ord(c) - 70\n",
    "        elif c >= 'A' and c <= 'Z':\n",
    "            score+= ord(c) - 64\n",
    "score"
   ]
  },
  {
   "cell_type": "code",
   "execution_count": 123,
   "metadata": {},
   "outputs": [
    {
     "data": {
      "text/plain": [
       "44"
      ]
     },
     "execution_count": 123,
     "metadata": {},
     "output_type": "execute_result"
    }
   ],
   "source": [
    "assign_priority('R')"
   ]
  },
  {
   "cell_type": "code",
   "execution_count": 126,
   "metadata": {},
   "outputs": [
    {
     "data": {
      "text/plain": [
       "True"
      ]
     },
     "execution_count": 126,
     "metadata": {},
     "output_type": "execute_result"
    }
   ],
   "source": [
    "'S' >= 'R'"
   ]
  },
  {
   "cell_type": "code",
   "execution_count": null,
   "metadata": {},
   "outputs": [],
   "source": []
  }
 ],
 "metadata": {
  "kernelspec": {
   "display_name": "Python 2",
   "language": "python",
   "name": "python2"
  },
  "language_info": {
   "codemirror_mode": {
    "name": "ipython",
    "version": 2
   },
   "file_extension": ".py",
   "mimetype": "text/x-python",
   "name": "python",
   "nbconvert_exporter": "python",
   "pygments_lexer": "ipython2",
   "version": "2.7.15"
  }
 },
 "nbformat": 4,
 "nbformat_minor": 2
}
