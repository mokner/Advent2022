{
 "cells": [
  {
   "cell_type": "code",
   "execution_count": 3,
   "metadata": {},
   "outputs": [],
   "source": [
    "def rucksacks():\n",
    "    \n",
    "    priorities = []\n",
    "    raw_data = open('day3data.txt', 'r')\n",
    "    \n",
    "    for line in raw_data:\n",
    "        priorities.append(assign_priority(find_common_item(line.strip())))\n",
    "    \n",
    "    return sum(priorities)\n",
    "\n",
    "\n",
    "def find_common_item(items):\n",
    "    \n",
    "    common_item = ''\n",
    "    \n",
    "    first_compartment  = items[:len(items)//2]\n",
    "    second_compartment = items[len(items)//2:]\n",
    "    \n",
    "    return common_item.join(set(first_compartment).intersection(second_compartment))\n",
    "\n",
    "def assign_priority(item):\n",
    "    score = 0\n",
    "    \n",
    "    for c in item:\n",
    "        if c >= 'a' and c <= 'z':\n",
    "            score+= ord(c) - 96\n",
    "        elif c >= 'A' and c <= 'Z':\n",
    "            score+= ord(c) - 38\n",
    "        else:\n",
    "            score+=0\n",
    "            \n",
    "    return score"
   ]
  },
  {
   "cell_type": "code",
   "execution_count": 4,
   "metadata": {},
   "outputs": [
    {
     "data": {
      "text/plain": [
       "8252"
      ]
     },
     "execution_count": 4,
     "metadata": {},
     "output_type": "execute_result"
    }
   ],
   "source": [
    "rucksacks()"
   ]
  },
  {
   "cell_type": "code",
   "execution_count": null,
   "metadata": {},
   "outputs": [],
   "source": []
  }
 ],
 "metadata": {
  "kernelspec": {
   "display_name": "Python 2",
   "language": "python",
   "name": "python2"
  },
  "language_info": {
   "codemirror_mode": {
    "name": "ipython",
    "version": 2
   },
   "file_extension": ".py",
   "mimetype": "text/x-python",
   "name": "python",
   "nbconvert_exporter": "python",
   "pygments_lexer": "ipython2",
   "version": "2.7.15"
  }
 },
 "nbformat": 4,
 "nbformat_minor": 2
}
