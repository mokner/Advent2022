{
 "cells": [
  {
   "cell_type": "code",
   "execution_count": 2,
   "metadata": {},
   "outputs": [],
   "source": [
    "raw_data = open('day2data.txt', 'r').readlines()\n",
    "\n",
    "guide = []\n",
    "for line in raw_data:\n",
    "    s = line.strip()\n",
    "    guide.append(s)\n",
    "    \n",
    "#function to determine outcomes of a game of rock-paper-scissors   \n",
    "def play(opp, player):\n",
    "    \n",
    "    win = 6\n",
    "    draw = 3\n",
    "    loss = 0\n",
    "\n",
    "    #rock = 1\n",
    "    #paper = 2\n",
    "    #scissors = 3\n",
    "    \n",
    "    if opp == player:\n",
    "        return draw + player\n",
    "    elif opp == player-1 or opp == player +2:\n",
    "        return win + player\n",
    "    elif opp == player+1 or opp == player-2:\n",
    "        return loss + player\n",
    "    \n",
    "results = []\n",
    "current_score = 0\n",
    "player_choice = 0\n",
    "opponent_choice = 0\n",
    "i=0\n",
    "\n",
    "for n in guide:\n",
    "    if guide[i][0] == 'A':\n",
    "        opponent_choice = 1\n",
    "    elif guide[i][0] == 'B':\n",
    "        opponent_choice = 2\n",
    "    elif guide[i][0] == 'C':\n",
    "        opponent_choice = 3\n",
    "        \n",
    "    if guide[i][2] == 'X':\n",
    "        player_choice = 1\n",
    "    elif guide[i][2] == 'Y':\n",
    "        player_choice = 2\n",
    "    elif guide[i][2] == 'Z':\n",
    "        player_choice = 3\n",
    "    \n",
    "    i = i + 1\n",
    "    results.append(play(opponent_choice, player_choice))\n",
    "\n",
    "\n",
    "#this time this function is of the results of an rps game based on what the desired outcome is\n",
    "def play_by_guide(opp, outcome):\n",
    "    \n",
    "    win = 6\n",
    "    draw = 3\n",
    "    loss = 0\n",
    "    \n",
    "    rock = 1\n",
    "    paper = 2\n",
    "    scissors = 3\n",
    "    \n",
    "    if outcome == 2:\n",
    "        return opp + draw\n",
    "    \n",
    "    elif outcome ==1 and opp == rock:\n",
    "        return scissors + loss\n",
    "    elif outcome ==1 and opp == paper:\n",
    "        return rock + loss\n",
    "    elif outcome ==1 and opp == scissors:\n",
    "        return paper + loss\n",
    "    \n",
    "    elif outcome == 3 and opp == rock:\n",
    "        return paper + win\n",
    "    elif outcome == 3 and opp == paper:\n",
    "        return scissors + win\n",
    "    elif outcome == 3 and opp == scissors:\n",
    "        return rock + win\n",
    "    \n",
    "results_by_guide = []\n",
    "current_score = 0\n",
    "player_choice = 0\n",
    "opponent_choice = 0\n",
    "i=0\n",
    "\n",
    "for n in guide:\n",
    "    if guide[i][0] == 'A':\n",
    "        opponent_choice = 1\n",
    "    elif guide[i][0] == 'B':\n",
    "        opponent_choice = 2\n",
    "    elif guide[i][0] == 'C':\n",
    "        opponent_choice = 3\n",
    "        \n",
    "    if guide[i][2] == 'X':\n",
    "        player_choice = 1\n",
    "    elif guide[i][2] == 'Y':\n",
    "        player_choice = 2\n",
    "    elif guide[i][2] == 'Z':\n",
    "        player_choice = 3\n",
    "    \n",
    "    i = i + 1\n",
    "    results_by_guide.append(play_by_guide(opponent_choice, player_choice))"
   ]
  },
  {
   "cell_type": "code",
   "execution_count": 3,
   "metadata": {},
   "outputs": [
    {
     "data": {
      "text/plain": [
       "13526"
      ]
     },
     "execution_count": 3,
     "metadata": {},
     "output_type": "execute_result"
    }
   ],
   "source": [
    "sum(results)"
   ]
  },
  {
   "cell_type": "code",
   "execution_count": 4,
   "metadata": {},
   "outputs": [
    {
     "data": {
      "text/plain": [
       "14204"
      ]
     },
     "execution_count": 4,
     "metadata": {},
     "output_type": "execute_result"
    }
   ],
   "source": [
    "sum(results_by_guide)"
   ]
  },
  {
   "cell_type": "code",
   "execution_count": null,
   "metadata": {},
   "outputs": [],
   "source": []
  }
 ],
 "metadata": {
  "kernelspec": {
   "display_name": "Python 2",
   "language": "python",
   "name": "python2"
  },
  "language_info": {
   "codemirror_mode": {
    "name": "ipython",
    "version": 2
   },
   "file_extension": ".py",
   "mimetype": "text/x-python",
   "name": "python",
   "nbconvert_exporter": "python",
   "pygments_lexer": "ipython2",
   "version": "2.7.15"
  }
 },
 "nbformat": 4,
 "nbformat_minor": 2
}
