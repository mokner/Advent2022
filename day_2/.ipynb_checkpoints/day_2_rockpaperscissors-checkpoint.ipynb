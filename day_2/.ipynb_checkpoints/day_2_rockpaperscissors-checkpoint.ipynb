{
 "cells": [
  {
   "cell_type": "code",
   "execution_count": 1,
   "metadata": {},
   "outputs": [],
   "source": [
    "#function to determine outcome of a game of rock-paper-scissors based off what the player and opponent chooses\n",
    "#(rock - 1, paper - 2, scissors - 3)\n",
    "def play(opp, player):\n",
    "    \n",
    "    win = 6\n",
    "    draw = 3\n",
    "    loss = 0\n",
    "    \n",
    "    if opp == player:\n",
    "        return draw + player\n",
    "    elif opp == player-1 or opp == player +2:\n",
    "        return win + player\n",
    "    elif opp == player+1 or opp == player-2:\n",
    "        return loss + player\n",
    "\n",
    "\n",
    "#this time this function is of the results of an rps game based on what the desired outcome is \n",
    "#(based off what opponent will pick, select player choice based off if you want to win, lose, or draw)\n",
    "def play_by_guide(opp, outcome):\n",
    "    \n",
    "    win = 6\n",
    "    draw = 3\n",
    "    loss = 0\n",
    "    \n",
    "    rock = 1\n",
    "    paper = 2\n",
    "    scissors = 3\n",
    "    \n",
    "    if outcome == 2:\n",
    "        return opp + draw\n",
    "    elif outcome ==1 and opp == rock:\n",
    "        return scissors + loss\n",
    "    elif outcome ==1 and opp == paper:\n",
    "        return rock + loss\n",
    "    elif outcome ==1 and opp == scissors:\n",
    "        return paper + loss\n",
    "    elif outcome == 3 and opp == rock:\n",
    "        return paper + win\n",
    "    elif outcome == 3 and opp == paper:\n",
    "        return scissors + win\n",
    "    elif outcome == 3 and opp == scissors:\n",
    "        return rock + win\n",
    "    \n",
    "\n",
    "#function to sum up score of a rock-paper-scissors game based off\n",
    "def results(playstyle):\n",
    "    score = []\n",
    "    raw_data = open('day2data.txt', 'r')\n",
    "    \n",
    "    current_score = 0\n",
    "    player_choice = 0\n",
    "    opponent_choice = 0\n",
    "    \n",
    "\n",
    "    for line in raw_data:\n",
    "        if line[0] == 'A':\n",
    "            opponent_choice = 1\n",
    "        elif line[0] == 'B':\n",
    "            opponent_choice = 2\n",
    "        elif line[0] == 'C':\n",
    "            opponent_choice = 3\n",
    "        \n",
    "        if line[2] == 'X':\n",
    "            player_choice = 1\n",
    "        elif line[2] == 'Y':\n",
    "            player_choice = 2\n",
    "        elif line[2] == 'Z':\n",
    "            player_choice = 3\n",
    "        \n",
    "        score.append(playstyle(opponent_choice, player_choice))\n",
    "        \n",
    "    return sum(score)"
   ]
  },
  {
   "cell_type": "code",
   "execution_count": 2,
   "metadata": {},
   "outputs": [
    {
     "data": {
      "text/plain": [
       "13526"
      ]
     },
     "execution_count": 2,
     "metadata": {},
     "output_type": "execute_result"
    }
   ],
   "source": [
    "results(play)"
   ]
  },
  {
   "cell_type": "code",
   "execution_count": 3,
   "metadata": {},
   "outputs": [
    {
     "data": {
      "text/plain": [
       "14204"
      ]
     },
     "execution_count": 3,
     "metadata": {},
     "output_type": "execute_result"
    }
   ],
   "source": [
    "results(play_by_guide)"
   ]
  },
  {
   "cell_type": "code",
   "execution_count": null,
   "metadata": {},
   "outputs": [],
   "source": []
  }
 ],
 "metadata": {
  "kernelspec": {
   "display_name": "Python 2",
   "language": "python",
   "name": "python2"
  },
  "language_info": {
   "codemirror_mode": {
    "name": "ipython",
    "version": 2
   },
   "file_extension": ".py",
   "mimetype": "text/x-python",
   "name": "python",
   "nbconvert_exporter": "python",
   "pygments_lexer": "ipython2",
   "version": "2.7.15"
  }
 },
 "nbformat": 4,
 "nbformat_minor": 2
}
